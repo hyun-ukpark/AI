{
  "nbformat": 4,
  "nbformat_minor": 0,
  "metadata": {
    "colab": {
      "name": "Untitled1.ipynb의 사본의 사본의 사본",
      "provenance": [],
      "collapsed_sections": [],
      "include_colab_link": true
    },
    "kernelspec": {
      "name": "python3",
      "display_name": "Python 3"
    }
  },
  "cells": [
    {
      "cell_type": "markdown",
      "metadata": {
        "id": "view-in-github",
        "colab_type": "text"
      },
      "source": [
        "<a href=\"https://colab.research.google.com/github/hyun-ukpark/AI/blob/master/%EC%97%B0%EC%8A%B5.ipynb\" target=\"_parent\"><img src=\"https://colab.research.google.com/assets/colab-badge.svg\" alt=\"Open In Colab\"/></a>"
      ]
    },
    {
      "cell_type": "code",
      "metadata": {
        "id": "T61xE72EZN02",
        "colab_type": "code",
        "outputId": "5013d5f9-f112-45c8-e74c-dd7ab5688983",
        "colab": {
          "base_uri": "https://localhost:8080/",
          "height": 35
        }
      },
      "source": [
        "print(0o177)"
      ],
      "execution_count": 0,
      "outputs": [
        {
          "output_type": "stream",
          "text": [
            "127\n"
          ],
          "name": "stdout"
        }
      ]
    },
    {
      "cell_type": "code",
      "metadata": {
        "id": "-an0d6XsWXfz",
        "colab_type": "code",
        "outputId": "39ba8eaa-8ed4-4116-8ece-1d26cce0d318",
        "colab": {
          "base_uri": "https://localhost:8080/",
          "height": 35
        }
      },
      "source": [
        "a = 1 + 2j\n",
        "a.real"
      ],
      "execution_count": 0,
      "outputs": [
        {
          "output_type": "execute_result",
          "data": {
            "text/plain": [
              "1.0"
            ]
          },
          "metadata": {
            "tags": []
          },
          "execution_count": 3
        }
      ]
    },
    {
      "cell_type": "markdown",
      "metadata": {
        "id": "t9XLjqkZWg5i",
        "colab_type": "text"
      },
      "source": [
        "real은 복소수의 실수 부분을 리턴한다"
      ]
    },
    {
      "cell_type": "code",
      "metadata": {
        "id": "1U-i9AIbWnOO",
        "colab_type": "code",
        "outputId": "b7c407ad-9676-4d73-f9e8-6d5e6a69f5d2",
        "colab": {
          "base_uri": "https://localhost:8080/",
          "height": 35
        }
      },
      "source": [
        "a = 1 + 2j\n",
        "a.imag"
      ],
      "execution_count": 0,
      "outputs": [
        {
          "output_type": "execute_result",
          "data": {
            "text/plain": [
              "2.0"
            ]
          },
          "metadata": {
            "tags": []
          },
          "execution_count": 4
        }
      ]
    },
    {
      "cell_type": "markdown",
      "metadata": {
        "id": "urFK4M5nWvsA",
        "colab_type": "text"
      },
      "source": [
        "imag는 복소수의 허수 부분을 리턴한다"
      ]
    },
    {
      "cell_type": "code",
      "metadata": {
        "id": "GGZTEBEbW02m",
        "colab_type": "code",
        "outputId": "098dba7c-2923-4ea5-9bf5-faff4f4dc4f1",
        "colab": {
          "base_uri": "https://localhost:8080/",
          "height": 35
        }
      },
      "source": [
        "a = 1 + 2j\n",
        "a.conjugate()"
      ],
      "execution_count": 0,
      "outputs": [
        {
          "output_type": "execute_result",
          "data": {
            "text/plain": [
              "(1-2j)"
            ]
          },
          "metadata": {
            "tags": []
          },
          "execution_count": 6
        }
      ]
    },
    {
      "cell_type": "markdown",
      "metadata": {
        "id": "m400jnE_XFoa",
        "colab_type": "text"
      },
      "source": [
        "conjugate()는 복소수의 켤레복소수를 리턴한다"
      ]
    },
    {
      "cell_type": "code",
      "metadata": {
        "id": "6mX7fLjiXLz0",
        "colab_type": "code",
        "outputId": "8e7943c2-f8f9-41d9-9c7b-d7e2eaa99d7d",
        "colab": {
          "base_uri": "https://localhost:8080/",
          "height": 35
        }
      },
      "source": [
        "a = 1 + 2j\n",
        "abs(a)"
      ],
      "execution_count": 0,
      "outputs": [
        {
          "output_type": "execute_result",
          "data": {
            "text/plain": [
              "2.23606797749979"
            ]
          },
          "metadata": {
            "tags": []
          },
          "execution_count": 7
        }
      ]
    },
    {
      "cell_type": "markdown",
      "metadata": {
        "id": "t90lIK8EXX2v",
        "colab_type": "text"
      },
      "source": [
        "abs(복소수)는 복소수의 절대값을 리턴한다"
      ]
    },
    {
      "cell_type": "code",
      "metadata": {
        "id": "CFQy_oGSXc1a",
        "colab_type": "code",
        "outputId": "cd30ae1d-e1d0-45ff-85d6-773a1da3e25a",
        "colab": {
          "base_uri": "https://localhost:8080/",
          "height": 71
        }
      },
      "source": [
        "a = 3\n",
        "b = 4\n",
        "print(a + b)\n",
        "print(a * b)\n",
        "print(a / b)"
      ],
      "execution_count": 0,
      "outputs": [
        {
          "output_type": "stream",
          "text": [
            "7\n",
            "12\n",
            "0.75\n"
          ],
          "name": "stdout"
        }
      ]
    },
    {
      "cell_type": "code",
      "metadata": {
        "id": "HEYwijp7YcQ-",
        "colab_type": "code",
        "outputId": "f1dc0866-234d-42a1-bc29-08cb8348da59",
        "colab": {
          "base_uri": "https://localhost:8080/",
          "height": 35
        }
      },
      "source": [
        "a = 3\n",
        "b = 4\n",
        "a ** b"
      ],
      "execution_count": 0,
      "outputs": [
        {
          "output_type": "execute_result",
          "data": {
            "text/plain": [
              "81"
            ]
          },
          "metadata": {
            "tags": []
          },
          "execution_count": 6
        }
      ]
    },
    {
      "cell_type": "markdown",
      "metadata": {
        "id": "DM9Z2cauYkQu",
        "colab_type": "text"
      },
      "source": [
        "**는 제곱을 나타내는 연산자"
      ]
    },
    {
      "cell_type": "code",
      "metadata": {
        "id": "j486mBWWYn0X",
        "colab_type": "code",
        "outputId": "3636530b-1081-4469-b788-e9dce7b6400a",
        "colab": {
          "base_uri": "https://localhost:8080/",
          "height": 35
        }
      },
      "source": [
        "7 % 3"
      ],
      "execution_count": 0,
      "outputs": [
        {
          "output_type": "execute_result",
          "data": {
            "text/plain": [
              "1"
            ]
          },
          "metadata": {
            "tags": []
          },
          "execution_count": 7
        }
      ]
    },
    {
      "cell_type": "markdown",
      "metadata": {
        "id": "y_7pPqD7YsA_",
        "colab_type": "text"
      },
      "source": [
        "%는 나눗셈 후 나머지를 반환하는 연산자"
      ]
    },
    {
      "cell_type": "code",
      "metadata": {
        "id": "L3haGDAQYwHv",
        "colab_type": "code",
        "outputId": "be4c6198-1a44-4053-c01d-0d08736ad783",
        "colab": {
          "base_uri": "https://localhost:8080/",
          "height": 35
        }
      },
      "source": [
        "7//4"
      ],
      "execution_count": 0,
      "outputs": [
        {
          "output_type": "execute_result",
          "data": {
            "text/plain": [
              "1"
            ]
          },
          "metadata": {
            "tags": []
          },
          "execution_count": 8
        }
      ]
    },
    {
      "cell_type": "markdown",
      "metadata": {
        "id": "0z2sdYuHY1_v",
        "colab_type": "text"
      },
      "source": [
        "//는 나눗셈 후 소숫점 아랫자리를 버리는 연산자"
      ]
    },
    {
      "cell_type": "code",
      "metadata": {
        "id": "HX96l8ZxY6wt",
        "colab_type": "code",
        "outputId": "d4b9aab8-f93b-4d1c-a0a7-28e0df0a02d9",
        "colab": {
          "base_uri": "https://localhost:8080/",
          "height": 89
        }
      },
      "source": [
        "print(\"Hello World\")\n",
        "print('Python is fun')\n",
        "print(\"\"\"Life is too short, You need python\"\"\")\n",
        "print('''Life is too short, You need python''')"
      ],
      "execution_count": 0,
      "outputs": [
        {
          "output_type": "stream",
          "text": [
            "Hello World\n",
            "Python is fun\n",
            "Life is too short, You need python\n",
            "Life is too short, You need python\n"
          ],
          "name": "stdout"
        }
      ]
    },
    {
      "cell_type": "markdown",
      "metadata": {
        "id": "9ZdH2cVJZZcO",
        "colab_type": "text"
      },
      "source": [
        "문자열은 \" \", ' ', \"\"\" \"\"\", ''' '''을 사용하여 만든다"
      ]
    },
    {
      "cell_type": "code",
      "metadata": {
        "id": "3uxoImUUZg35",
        "colab_type": "code",
        "outputId": "2544f524-dfb7-45dc-bd0f-80d92c44c24f",
        "colab": {
          "base_uri": "https://localhost:8080/",
          "height": 35
        }
      },
      "source": [
        "food = \"Python's favorite food is perl\"\n",
        "print(food)"
      ],
      "execution_count": 0,
      "outputs": [
        {
          "output_type": "stream",
          "text": [
            "Python's favorite food is perl\n"
          ],
          "name": "stdout"
        }
      ]
    },
    {
      "cell_type": "code",
      "metadata": {
        "id": "1OHqagACaMWy",
        "colab_type": "code",
        "outputId": "148fd0cd-951f-4578-c68b-ae61228a8c4d",
        "colab": {
          "base_uri": "https://localhost:8080/",
          "height": 35
        }
      },
      "source": [
        "food = '\"Python is very easy\" he says.'\n",
        "print(food)"
      ],
      "execution_count": 0,
      "outputs": [
        {
          "output_type": "stream",
          "text": [
            "\"Python is very easy\" he says.\n"
          ],
          "name": "stdout"
        }
      ]
    },
    {
      "cell_type": "code",
      "metadata": {
        "id": "ac8aJff9avvS",
        "colab_type": "code",
        "outputId": "20f63867-fde1-4387-e4f9-61c72fff3881",
        "colab": {
          "base_uri": "https://localhost:8080/",
          "height": 35
        }
      },
      "source": [
        "food = 'Python\\'s favorite food is perl'\n",
        "print(food)"
      ],
      "execution_count": 0,
      "outputs": [
        {
          "output_type": "stream",
          "text": [
            "Python's favorite food is perl\n"
          ],
          "name": "stdout"
        }
      ]
    },
    {
      "cell_type": "markdown",
      "metadata": {
        "id": "nLYyuVtdbByC",
        "colab_type": "text"
      },
      "source": [
        "백슬래시(\\)를 이용해서 작은따옴표와 큰따옴표를 문자열에 포함시키기"
      ]
    },
    {
      "cell_type": "code",
      "metadata": {
        "id": "5_TcCSGibNRo",
        "colab_type": "code",
        "outputId": "d74261ce-57f4-42c8-c913-aecb9fa8bbd6",
        "colab": {
          "base_uri": "https://localhost:8080/",
          "height": 53
        }
      },
      "source": [
        "multiline = \"Life is too short\\nYou need python\"\n",
        "print(multiline)"
      ],
      "execution_count": 0,
      "outputs": [
        {
          "output_type": "stream",
          "text": [
            "Life is too short\n",
            "You need python\n"
          ],
          "name": "stdout"
        }
      ]
    },
    {
      "cell_type": "markdown",
      "metadata": {
        "id": "87_MBa2ibnbN",
        "colab_type": "text"
      },
      "source": [
        "줄을 바꾸기 위한 이스케이프 코드 \\n 삽입하기"
      ]
    },
    {
      "cell_type": "code",
      "metadata": {
        "id": "m5ab2Z4ubvOL",
        "colab_type": "code",
        "outputId": "22ff2353-a2e3-4ef6-85a0-d27b35fc1590",
        "colab": {
          "base_uri": "https://localhost:8080/",
          "height": 161
        }
      },
      "source": [
        "multiline = \"\"\"\n",
        "Life is too short\n",
        "You need python\n",
        "\"\"\"\n",
        "print(multiline)\n",
        "multiline2 = '''\n",
        "Life is too short\n",
        "You need python\n",
        "'''\n",
        "print(multiline2)"
      ],
      "execution_count": 0,
      "outputs": [
        {
          "output_type": "stream",
          "text": [
            "\n",
            "Life is too short\n",
            "You need python\n",
            "\n",
            "\n",
            "Life is too short\n",
            "You need python\n",
            "\n"
          ],
          "name": "stdout"
        }
      ]
    },
    {
      "cell_type": "markdown",
      "metadata": {
        "id": "gaW1v1G_cDhJ",
        "colab_type": "text"
      },
      "source": [
        "줄을 바꾸기 위한 작은따옴표 3개 또는 큰따옴표 3개 이용"
      ]
    },
    {
      "cell_type": "code",
      "metadata": {
        "id": "QTT46Nfica_c",
        "colab_type": "code",
        "outputId": "7b51029c-3fb3-47d8-a661-3d256ccdb5b2",
        "colab": {
          "base_uri": "https://localhost:8080/",
          "height": 35
        }
      },
      "source": [
        "head = \"Python\"\n",
        "tail = \" is fun!\"\n",
        "print(head + tail)"
      ],
      "execution_count": 0,
      "outputs": [
        {
          "output_type": "stream",
          "text": [
            "Python is fun!\n"
          ],
          "name": "stdout"
        }
      ]
    },
    {
      "cell_type": "code",
      "metadata": {
        "id": "T80XSZL7ctIp",
        "colab_type": "code",
        "outputId": "51294774-6818-4cca-e8d2-23c8267557d5",
        "colab": {
          "base_uri": "https://localhost:8080/",
          "height": 35
        }
      },
      "source": [
        "a = \"python\"\n",
        "print(a * 2)"
      ],
      "execution_count": 0,
      "outputs": [
        {
          "output_type": "stream",
          "text": [
            "pythonpython\n"
          ],
          "name": "stdout"
        }
      ]
    },
    {
      "cell_type": "code",
      "metadata": {
        "id": "CaXAq8S_c5w4",
        "colab_type": "code",
        "outputId": "3ec7a3b9-a5a7-48ea-e0fb-e09aa93ac230",
        "colab": {
          "base_uri": "https://localhost:8080/",
          "height": 71
        }
      },
      "source": [
        "print(\"=\" * 50)\n",
        "print(\"My program\")\n",
        "print(\"=\" * 50)"
      ],
      "execution_count": 0,
      "outputs": [
        {
          "output_type": "stream",
          "text": [
            "==================================================\n",
            "My program\n",
            "==================================================\n"
          ],
          "name": "stdout"
        }
      ]
    },
    {
      "cell_type": "code",
      "metadata": {
        "id": "Nhedfj-UdXgI",
        "colab_type": "code",
        "outputId": "9aecf198-a317-4983-84e5-fc752bec7159",
        "colab": {
          "base_uri": "https://localhost:8080/",
          "height": 35
        }
      },
      "source": [
        "a = \"Life is too short. You need Python\"\n",
        "print(a[3])"
      ],
      "execution_count": 0,
      "outputs": [
        {
          "output_type": "stream",
          "text": [
            "e\n"
          ],
          "name": "stdout"
        }
      ]
    }
  ]
}